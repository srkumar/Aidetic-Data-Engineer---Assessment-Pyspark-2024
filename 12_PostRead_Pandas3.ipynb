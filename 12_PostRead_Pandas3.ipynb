{
  "nbformat": 4,
  "nbformat_minor": 0,
  "metadata": {
    "colab": {
      "provenance": [],
      "include_colab_link": true
    },
    "kernelspec": {
      "name": "python3",
      "display_name": "Python 3"
    },
    "language_info": {
      "name": "python"
    }
  },
  "cells": [
    {
      "cell_type": "markdown",
      "metadata": {
        "id": "view-in-github",
        "colab_type": "text"
      },
      "source": [
        "<a href=\"https://colab.research.google.com/github/srkumar/my_repo/blob/main/12_PostRead_Pandas3.ipynb\" target=\"_parent\"><img src=\"https://colab.research.google.com/assets/colab-badge.svg\" alt=\"Open In Colab\"/></a>"
      ]
    },
    {
      "cell_type": "markdown",
      "source": [
        "# Post Read\n",
        "\n",
        "Practice Question on Grouping\n",
        "\n",
        "In this post read we will also discuss about reading/writing to different file types using pandas\n"
      ],
      "metadata": {
        "id": "eprIV1FsXrVW"
      }
    },
    {
      "cell_type": "markdown",
      "source": [
        "We already know what grouping is\n",
        "\n",
        "Lets solve a question on it for our practice\n",
        "You are given the DataFrame below with a column of 'grps', and a column of corresponding integer values, 'vals'.\n",
        "\n",
        "```python\n",
        "Use the following code to generate it\n",
        "\n",
        "df = pd.DataFrame({\"vals\": np.random.RandomState(31).randint(-30, 30, size=15),\n",
        "                   \"grps\": np.random.RandomState(31).choice([\"A\", \"B\"], 15)})\n",
        "```\n",
        "\n",
        "Create a new column 'patched_values'\n",
        "\n",
        "This column should we same as `vals` but replace the neg values with the mean of pos values in that group\n",
        "\n",
        "The resultant df should look like this\n",
        "\n",
        "```\n",
        "    vals grps  patched_vals\n",
        "0    -12    A          13.6\n",
        "1     -7    B          28.0\n",
        "2    -14    A          13.6\n",
        "3      4    A           4.0\n",
        "4     -7    A          13.6\n",
        "5     28    B          28.0\n",
        "6     -2    A          13.6\n",
        "7     -1    A          13.6\n",
        "8      8    A           8.0\n",
        "9     -2    B          28.0\n",
        "10    28    A          28.0\n",
        "11    12    A          12.0\n",
        "12    16    A          16.0\n",
        "13   -24    A          13.6\n",
        "14   -12    A          13.6\n",
        "```\n",
        "\n",
        "Group A has 5 positive values with mean 13.6\n",
        "\n",
        "#### Solution:"
      ],
      "metadata": {
        "id": "-76BUJRXKSE7"
      }
    },
    {
      "cell_type": "code",
      "source": [
        "import pandas as pd\n",
        "import numpy as np\n",
        "\n",
        "quiz = pd.DataFrame({\"vals\": np.random.RandomState(31).randint(-30, 30, size=15),\n",
        "                   \"grps\": np.random.RandomState(31).choice([\"A\", \"B\"], 15)})\n",
        "\n",
        "def replace(group):\n",
        "    mask1 = group < 0\n",
        "    mask2 = group > 0\n",
        "    group[mask1] = group[mask2].mean()\n",
        "    return group\n",
        "\n",
        "quiz.groupby(['grps'])['vals'].transform(replace)"
      ],
      "metadata": {
        "colab": {
          "base_uri": "https://localhost:8080/"
        },
        "id": "1Z3Y4EO_KW0J",
        "outputId": "dc0f9ce0-6f9c-426f-a4cc-dd971973871e"
      },
      "execution_count": null,
      "outputs": [
        {
          "output_type": "execute_result",
          "data": {
            "text/plain": [
              "0     13.6\n",
              "1     28.0\n",
              "2     13.6\n",
              "3      4.0\n",
              "4     13.6\n",
              "5     28.0\n",
              "6     13.6\n",
              "7     13.6\n",
              "8      8.0\n",
              "9     28.0\n",
              "10    28.0\n",
              "11    12.0\n",
              "12    16.0\n",
              "13    13.6\n",
              "14    13.6\n",
              "Name: vals, dtype: float64"
            ]
          },
          "metadata": {},
          "execution_count": 1
        }
      ]
    },
    {
      "cell_type": "markdown",
      "source": [
        "### Working with different file types\n",
        "\n",
        "So far we have worked only with csv files\n",
        "\n",
        "But pandas offers flexibility to save to and load from various other file types as well\n",
        "\n",
        "Lets look at them one by one\n",
        "\n",
        "#### 1. JSON files\n",
        "  - We can read data from a json file using the .read_json() command\n",
        "  - Lets see how it works\n",
        "  "
      ],
      "metadata": {
        "id": "1_j74gDJDRkg"
      }
    },
    {
      "cell_type": "markdown",
      "source": [
        "\n",
        "\n",
        "```\n",
        "df = pd.read_json('data_index.json', orient = \"index\")\n",
        "```\n",
        "\n"
      ],
      "metadata": {
        "id": "Bf50-gu7En4_"
      }
    },
    {
      "cell_type": "markdown",
      "source": [
        "Some of its params include:\n",
        "  - orient: Indication of expected JSON string format. Eg: \"index\"\n",
        "  - convert_dates: Datelike columns will be converted\n",
        "  - dtype\n",
        "\n",
        "Similary data can be saved from dataframe to json using .to_json() command"
      ],
      "metadata": {
        "id": "LKEtsLLmEneT"
      }
    },
    {
      "cell_type": "markdown",
      "source": [
        "```\n",
        "df.to_json('data_saved.json')\n",
        "```"
      ],
      "metadata": {
        "id": "OiRpPSCVDRfp"
      }
    },
    {
      "cell_type": "markdown",
      "source": [
        "#### 2. Excel files\n",
        "\n",
        "  - To read data: pd.read_excel()"
      ],
      "metadata": {
        "id": "I5ePoFxEDRbH"
      }
    },
    {
      "cell_type": "markdown",
      "source": [
        "```\n",
        "df = pd.read_excel('data_excel.xlsx')\n",
        "```"
      ],
      "metadata": {
        "id": "3P168h_ODRWr"
      }
    },
    {
      "cell_type": "markdown",
      "source": [
        "Parameters include:\n",
        "  - sheet_name: Sheet of the excel file to import or zero-based indexing of sheer\n",
        "  - index_col: Index of column to use as row labels\n",
        "  - header: Row index to use as header\n",
        "  - And some other parameters\n",
        "\n",
        "To save data: df.to_excel()"
      ],
      "metadata": {
        "id": "g_AVUEiyG3v7"
      }
    },
    {
      "cell_type": "markdown",
      "source": [
        "```\n",
        "df.to_excel('data.xlsx', sheet_name='COUNTRIES')\n",
        "```"
      ],
      "metadata": {
        "id": "p5P5eyWMDRSG"
      }
    },
    {
      "cell_type": "markdown",
      "source": [
        "Parameters:\n",
        "  - sheet_name\n",
        "  - startcol: The colum index to start reading data from\n",
        "  - startrow: Row index to start reading dataframe\n",
        "\n",
        "#### 3. Pickle files\n",
        "\n",
        "To read: pd.read_pickle()\n",
        "\n",
        "```\n",
        "df = pd.read_pickle(\"data_pickle.pickle\")\n",
        "```\n",
        "\n",
        "To save data: df.to_picle()\n",
        "\n",
        "```\n",
        "df.to_pickle(\"data_pickle.pickle\")\n",
        "```\n"
      ],
      "metadata": {
        "id": "wuYNE9UkDRNO"
      }
    },
    {
      "cell_type": "markdown",
      "source": [
        "This is all for pandas now\n",
        "\n",
        "We will be using this library for processing other datasets as well\n",
        "\n",
        "Till then feel free to explore the docs and get hands-on experience on this library"
      ],
      "metadata": {
        "id": "PfKSXVV2YJvW"
      }
    },
    {
      "cell_type": "code",
      "source": [],
      "metadata": {
        "id": "SBFZaV59X51G"
      },
      "execution_count": null,
      "outputs": []
    }
  ]
}